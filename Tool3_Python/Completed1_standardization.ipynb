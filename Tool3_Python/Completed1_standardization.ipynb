{
 "cells": [
  {
   "cell_type": "markdown",
   "id": "b64e53ad-4019-4b5f-a3f1-d856cb886081",
   "metadata": {},
   "source": [
    "# Objectives\n",
    "1. Import Data - both Train and Test\n",
    "2. Create Random Sample Submission\n",
    "3. Export Submission"
   ]
  },
  {
   "cell_type": "markdown",
   "id": "6264a059-a0fc-4d9c-b42e-1c1acc060756",
   "metadata": {},
   "source": [
    "# Import Python Packages"
   ]
  },
  {
   "cell_type": "code",
   "execution_count": 1,
   "id": "7943e186-be1c-4a39-acba-0e86822611f7",
   "metadata": {},
   "outputs": [],
   "source": [
    "import pandas as pd\n",
    "import numpy as np"
   ]
  },
  {
   "cell_type": "markdown",
   "id": "fcead687-12ee-4f57-a7b4-c2a13c1c394e",
   "metadata": {},
   "source": [
    "# Import Data"
   ]
  },
  {
   "cell_type": "code",
   "execution_count": null,
   "id": "0543d627-b5b0-43a1-b6a7-eeae3ac2b4bd",
   "metadata": {},
   "outputs": [],
   "source": []
  }
 ],
 "metadata": {
  "kernelspec": {
   "display_name": "Python 3",
   "language": "python",
   "name": "python3"
  },
  "language_info": {
   "codemirror_mode": {
    "name": "ipython",
    "version": 3
   },
   "file_extension": ".py",
   "mimetype": "text/x-python",
   "name": "python",
   "nbconvert_exporter": "python",
   "pygments_lexer": "ipython3",
   "version": "3.8.8"
  }
 },
 "nbformat": 4,
 "nbformat_minor": 5
}
